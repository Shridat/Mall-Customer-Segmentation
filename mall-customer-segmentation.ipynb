{
 "cells": [
  {
   "cell_type": "code",
   "execution_count": 1,
   "id": "0ddd1ebb",
   "metadata": {
    "_cell_guid": "b1076dfc-b9ad-4769-8c92-a6c4dae69d19",
    "_uuid": "8f2839f25d086af736a60e9eeb907d3b93b6e0e5",
    "execution": {
     "iopub.execute_input": "2022-12-30T22:36:46.085323Z",
     "iopub.status.busy": "2022-12-30T22:36:46.084433Z",
     "iopub.status.idle": "2022-12-30T22:36:46.106594Z",
     "shell.execute_reply": "2022-12-30T22:36:46.105573Z"
    },
    "papermill": {
     "duration": 0.03495,
     "end_time": "2022-12-30T22:36:46.109291",
     "exception": false,
     "start_time": "2022-12-30T22:36:46.074341",
     "status": "completed"
    },
    "tags": []
   },
   "outputs": [
    {
     "name": "stdout",
     "output_type": "stream",
     "text": [
      "/kaggle/input/customer-segmentation-tutorial-in-python/Mall_Customers.csv\n"
     ]
    }
   ],
   "source": [
    "# This Python 3 environment comes with many helpful analytics libraries installed\n",
    "# It is defined by the kaggle/python Docker image: https://github.com/kaggle/docker-python\n",
    "# For example, here's several helpful packages to load\n",
    "\n",
    "import numpy as np # linear algebra\n",
    "import pandas as pd # data processing, CSV file I/O (e.g. pd.read_csv)\n",
    "\n",
    "# Input data files are available in the read-only \"../input/\" directory\n",
    "# For example, running this (by clicking run or pressing Shift+Enter) will list all files under the input directory\n",
    "\n",
    "import os\n",
    "for dirname, _, filenames in os.walk('/kaggle/input'):\n",
    "    for filename in filenames:\n",
    "        print(os.path.join(dirname, filename))\n",
    "\n",
    "# You can write up to 20GB to the current directory (/kaggle/working/) that gets preserved as output when you create a version using \"Save & Run All\" \n",
    "# You can also write temporary files to /kaggle/temp/, but they won't be saved outside of the current session"
   ]
  },
  {
   "cell_type": "code",
   "execution_count": 2,
   "id": "ad04060a",
   "metadata": {
    "execution": {
     "iopub.execute_input": "2022-12-30T22:36:46.122698Z",
     "iopub.status.busy": "2022-12-30T22:36:46.121854Z",
     "iopub.status.idle": "2022-12-30T22:36:47.910434Z",
     "shell.execute_reply": "2022-12-30T22:36:47.909424Z"
    },
    "papermill": {
     "duration": 1.798249,
     "end_time": "2022-12-30T22:36:47.913191",
     "exception": false,
     "start_time": "2022-12-30T22:36:46.114942",
     "status": "completed"
    },
    "tags": []
   },
   "outputs": [],
   "source": [
    "import pandas as pd\n",
    "import matplotlib.pyplot as plt\n",
    "import seaborn as sns\n",
    "from sklearn.cluster import KMeans"
   ]
  },
  {
   "cell_type": "code",
   "execution_count": 3,
   "id": "2255a826",
   "metadata": {
    "execution": {
     "iopub.execute_input": "2022-12-30T22:36:47.926766Z",
     "iopub.status.busy": "2022-12-30T22:36:47.925425Z",
     "iopub.status.idle": "2022-12-30T22:36:47.964891Z",
     "shell.execute_reply": "2022-12-30T22:36:47.963545Z"
    },
    "papermill": {
     "duration": 0.050422,
     "end_time": "2022-12-30T22:36:47.968998",
     "exception": false,
     "start_time": "2022-12-30T22:36:47.918576",
     "status": "completed"
    },
    "tags": []
   },
   "outputs": [
    {
     "data": {
      "text/html": [
       "<div>\n",
       "<style scoped>\n",
       "    .dataframe tbody tr th:only-of-type {\n",
       "        vertical-align: middle;\n",
       "    }\n",
       "\n",
       "    .dataframe tbody tr th {\n",
       "        vertical-align: top;\n",
       "    }\n",
       "\n",
       "    .dataframe thead th {\n",
       "        text-align: right;\n",
       "    }\n",
       "</style>\n",
       "<table border=\"1\" class=\"dataframe\">\n",
       "  <thead>\n",
       "    <tr style=\"text-align: right;\">\n",
       "      <th></th>\n",
       "      <th>CustomerID</th>\n",
       "      <th>Gender</th>\n",
       "      <th>Age</th>\n",
       "      <th>Annual Income (k$)</th>\n",
       "      <th>Spending Score (1-100)</th>\n",
       "    </tr>\n",
       "  </thead>\n",
       "  <tbody>\n",
       "    <tr>\n",
       "      <th>0</th>\n",
       "      <td>1</td>\n",
       "      <td>Male</td>\n",
       "      <td>19</td>\n",
       "      <td>15</td>\n",
       "      <td>39</td>\n",
       "    </tr>\n",
       "    <tr>\n",
       "      <th>1</th>\n",
       "      <td>2</td>\n",
       "      <td>Male</td>\n",
       "      <td>21</td>\n",
       "      <td>15</td>\n",
       "      <td>81</td>\n",
       "    </tr>\n",
       "    <tr>\n",
       "      <th>2</th>\n",
       "      <td>3</td>\n",
       "      <td>Female</td>\n",
       "      <td>20</td>\n",
       "      <td>16</td>\n",
       "      <td>6</td>\n",
       "    </tr>\n",
       "    <tr>\n",
       "      <th>3</th>\n",
       "      <td>4</td>\n",
       "      <td>Female</td>\n",
       "      <td>23</td>\n",
       "      <td>16</td>\n",
       "      <td>77</td>\n",
       "    </tr>\n",
       "    <tr>\n",
       "      <th>4</th>\n",
       "      <td>5</td>\n",
       "      <td>Female</td>\n",
       "      <td>31</td>\n",
       "      <td>17</td>\n",
       "      <td>40</td>\n",
       "    </tr>\n",
       "  </tbody>\n",
       "</table>\n",
       "</div>"
      ],
      "text/plain": [
       "   CustomerID  Gender  Age  Annual Income (k$)  Spending Score (1-100)\n",
       "0           1    Male   19                  15                      39\n",
       "1           2    Male   21                  15                      81\n",
       "2           3  Female   20                  16                       6\n",
       "3           4  Female   23                  16                      77\n",
       "4           5  Female   31                  17                      40"
      ]
     },
     "execution_count": 3,
     "metadata": {},
     "output_type": "execute_result"
    }
   ],
   "source": [
    "df = pd.read_csv('/kaggle/input/customer-segmentation-tutorial-in-python/Mall_Customers.csv')\n",
    "df.head()"
   ]
  },
  {
   "cell_type": "code",
   "execution_count": 4,
   "id": "0162a69f",
   "metadata": {
    "execution": {
     "iopub.execute_input": "2022-12-30T22:36:47.983326Z",
     "iopub.status.busy": "2022-12-30T22:36:47.981962Z",
     "iopub.status.idle": "2022-12-30T22:36:47.992318Z",
     "shell.execute_reply": "2022-12-30T22:36:47.990887Z"
    },
    "papermill": {
     "duration": 0.020313,
     "end_time": "2022-12-30T22:36:47.995198",
     "exception": false,
     "start_time": "2022-12-30T22:36:47.974885",
     "status": "completed"
    },
    "tags": []
   },
   "outputs": [
    {
     "data": {
      "text/plain": [
       "(200, 5)"
      ]
     },
     "execution_count": 4,
     "metadata": {},
     "output_type": "execute_result"
    }
   ],
   "source": [
    "df.shape"
   ]
  },
  {
   "cell_type": "code",
   "execution_count": 5,
   "id": "2dec8608",
   "metadata": {
    "execution": {
     "iopub.execute_input": "2022-12-30T22:36:48.009164Z",
     "iopub.status.busy": "2022-12-30T22:36:48.008658Z",
     "iopub.status.idle": "2022-12-30T22:36:48.022006Z",
     "shell.execute_reply": "2022-12-30T22:36:48.020023Z"
    },
    "papermill": {
     "duration": 0.023817,
     "end_time": "2022-12-30T22:36:48.025002",
     "exception": false,
     "start_time": "2022-12-30T22:36:48.001185",
     "status": "completed"
    },
    "tags": []
   },
   "outputs": [
    {
     "data": {
      "text/plain": [
       "CustomerID                0\n",
       "Gender                    0\n",
       "Age                       0\n",
       "Annual Income (k$)        0\n",
       "Spending Score (1-100)    0\n",
       "dtype: int64"
      ]
     },
     "execution_count": 5,
     "metadata": {},
     "output_type": "execute_result"
    }
   ],
   "source": [
    "df.isnull().sum()"
   ]
  },
  {
   "cell_type": "code",
   "execution_count": 6,
   "id": "215326d2",
   "metadata": {
    "execution": {
     "iopub.execute_input": "2022-12-30T22:36:48.039123Z",
     "iopub.status.busy": "2022-12-30T22:36:48.038643Z",
     "iopub.status.idle": "2022-12-30T22:36:48.057121Z",
     "shell.execute_reply": "2022-12-30T22:36:48.055827Z"
    },
    "papermill": {
     "duration": 0.028522,
     "end_time": "2022-12-30T22:36:48.059737",
     "exception": false,
     "start_time": "2022-12-30T22:36:48.031215",
     "status": "completed"
    },
    "tags": []
   },
   "outputs": [
    {
     "data": {
      "text/plain": [
       "0"
      ]
     },
     "execution_count": 6,
     "metadata": {},
     "output_type": "execute_result"
    }
   ],
   "source": [
    "df.duplicated().sum()"
   ]
  },
  {
   "cell_type": "code",
   "execution_count": 7,
   "id": "b4f7bc25",
   "metadata": {
    "execution": {
     "iopub.execute_input": "2022-12-30T22:36:48.073972Z",
     "iopub.status.busy": "2022-12-30T22:36:48.073507Z",
     "iopub.status.idle": "2022-12-30T22:36:48.098569Z",
     "shell.execute_reply": "2022-12-30T22:36:48.097175Z"
    },
    "papermill": {
     "duration": 0.036073,
     "end_time": "2022-12-30T22:36:48.101805",
     "exception": false,
     "start_time": "2022-12-30T22:36:48.065732",
     "status": "completed"
    },
    "tags": []
   },
   "outputs": [
    {
     "name": "stdout",
     "output_type": "stream",
     "text": [
      "<class 'pandas.core.frame.DataFrame'>\n",
      "RangeIndex: 200 entries, 0 to 199\n",
      "Data columns (total 5 columns):\n",
      " #   Column                  Non-Null Count  Dtype \n",
      "---  ------                  --------------  ----- \n",
      " 0   CustomerID              200 non-null    int64 \n",
      " 1   Gender                  200 non-null    object\n",
      " 2   Age                     200 non-null    int64 \n",
      " 3   Annual Income (k$)      200 non-null    int64 \n",
      " 4   Spending Score (1-100)  200 non-null    int64 \n",
      "dtypes: int64(4), object(1)\n",
      "memory usage: 7.9+ KB\n"
     ]
    }
   ],
   "source": [
    "df.info()"
   ]
  },
  {
   "cell_type": "code",
   "execution_count": 8,
   "id": "9ee462ef",
   "metadata": {
    "execution": {
     "iopub.execute_input": "2022-12-30T22:36:48.115996Z",
     "iopub.status.busy": "2022-12-30T22:36:48.115415Z",
     "iopub.status.idle": "2022-12-30T22:36:48.146907Z",
     "shell.execute_reply": "2022-12-30T22:36:48.145067Z"
    },
    "papermill": {
     "duration": 0.042912,
     "end_time": "2022-12-30T22:36:48.150704",
     "exception": false,
     "start_time": "2022-12-30T22:36:48.107792",
     "status": "completed"
    },
    "tags": []
   },
   "outputs": [
    {
     "data": {
      "text/html": [
       "<div>\n",
       "<style scoped>\n",
       "    .dataframe tbody tr th:only-of-type {\n",
       "        vertical-align: middle;\n",
       "    }\n",
       "\n",
       "    .dataframe tbody tr th {\n",
       "        vertical-align: top;\n",
       "    }\n",
       "\n",
       "    .dataframe thead th {\n",
       "        text-align: right;\n",
       "    }\n",
       "</style>\n",
       "<table border=\"1\" class=\"dataframe\">\n",
       "  <thead>\n",
       "    <tr style=\"text-align: right;\">\n",
       "      <th></th>\n",
       "      <th>CustomerID</th>\n",
       "      <th>Age</th>\n",
       "      <th>Annual Income (k$)</th>\n",
       "      <th>Spending Score (1-100)</th>\n",
       "    </tr>\n",
       "  </thead>\n",
       "  <tbody>\n",
       "    <tr>\n",
       "      <th>count</th>\n",
       "      <td>200.000000</td>\n",
       "      <td>200.000000</td>\n",
       "      <td>200.000000</td>\n",
       "      <td>200.000000</td>\n",
       "    </tr>\n",
       "    <tr>\n",
       "      <th>mean</th>\n",
       "      <td>100.500000</td>\n",
       "      <td>38.850000</td>\n",
       "      <td>60.560000</td>\n",
       "      <td>50.200000</td>\n",
       "    </tr>\n",
       "    <tr>\n",
       "      <th>std</th>\n",
       "      <td>57.879185</td>\n",
       "      <td>13.969007</td>\n",
       "      <td>26.264721</td>\n",
       "      <td>25.823522</td>\n",
       "    </tr>\n",
       "    <tr>\n",
       "      <th>min</th>\n",
       "      <td>1.000000</td>\n",
       "      <td>18.000000</td>\n",
       "      <td>15.000000</td>\n",
       "      <td>1.000000</td>\n",
       "    </tr>\n",
       "    <tr>\n",
       "      <th>25%</th>\n",
       "      <td>50.750000</td>\n",
       "      <td>28.750000</td>\n",
       "      <td>41.500000</td>\n",
       "      <td>34.750000</td>\n",
       "    </tr>\n",
       "    <tr>\n",
       "      <th>50%</th>\n",
       "      <td>100.500000</td>\n",
       "      <td>36.000000</td>\n",
       "      <td>61.500000</td>\n",
       "      <td>50.000000</td>\n",
       "    </tr>\n",
       "    <tr>\n",
       "      <th>75%</th>\n",
       "      <td>150.250000</td>\n",
       "      <td>49.000000</td>\n",
       "      <td>78.000000</td>\n",
       "      <td>73.000000</td>\n",
       "    </tr>\n",
       "    <tr>\n",
       "      <th>max</th>\n",
       "      <td>200.000000</td>\n",
       "      <td>70.000000</td>\n",
       "      <td>137.000000</td>\n",
       "      <td>99.000000</td>\n",
       "    </tr>\n",
       "  </tbody>\n",
       "</table>\n",
       "</div>"
      ],
      "text/plain": [
       "       CustomerID         Age  Annual Income (k$)  Spending Score (1-100)\n",
       "count  200.000000  200.000000          200.000000              200.000000\n",
       "mean   100.500000   38.850000           60.560000               50.200000\n",
       "std     57.879185   13.969007           26.264721               25.823522\n",
       "min      1.000000   18.000000           15.000000                1.000000\n",
       "25%     50.750000   28.750000           41.500000               34.750000\n",
       "50%    100.500000   36.000000           61.500000               50.000000\n",
       "75%    150.250000   49.000000           78.000000               73.000000\n",
       "max    200.000000   70.000000          137.000000               99.000000"
      ]
     },
     "execution_count": 8,
     "metadata": {},
     "output_type": "execute_result"
    }
   ],
   "source": [
    "df.describe()"
   ]
  },
  {
   "cell_type": "code",
   "execution_count": 9,
   "id": "57fdc682",
   "metadata": {
    "execution": {
     "iopub.execute_input": "2022-12-30T22:36:48.168231Z",
     "iopub.status.busy": "2022-12-30T22:36:48.167746Z",
     "iopub.status.idle": "2022-12-30T22:36:48.181743Z",
     "shell.execute_reply": "2022-12-30T22:36:48.179763Z"
    },
    "papermill": {
     "duration": 0.026679,
     "end_time": "2022-12-30T22:36:48.185839",
     "exception": false,
     "start_time": "2022-12-30T22:36:48.159160",
     "status": "completed"
    },
    "tags": []
   },
   "outputs": [
    {
     "data": {
      "text/plain": [
       "Female    112\n",
       "Male       88\n",
       "Name: Gender, dtype: int64"
      ]
     },
     "execution_count": 9,
     "metadata": {},
     "output_type": "execute_result"
    }
   ],
   "source": [
    "df['Gender'].value_counts()"
   ]
  },
  {
   "cell_type": "code",
   "execution_count": 10,
   "id": "efd776f8",
   "metadata": {
    "execution": {
     "iopub.execute_input": "2022-12-30T22:36:48.203667Z",
     "iopub.status.busy": "2022-12-30T22:36:48.202360Z",
     "iopub.status.idle": "2022-12-30T22:36:48.414379Z",
     "shell.execute_reply": "2022-12-30T22:36:48.412808Z"
    },
    "papermill": {
     "duration": 0.222871,
     "end_time": "2022-12-30T22:36:48.417084",
     "exception": false,
     "start_time": "2022-12-30T22:36:48.194213",
     "status": "completed"
    },
    "tags": []
   },
   "outputs": [
    {
     "name": "stderr",
     "output_type": "stream",
     "text": [
      "/opt/conda/lib/python3.7/site-packages/seaborn/_decorators.py:43: FutureWarning: Pass the following variable as a keyword arg: x. From version 0.12, the only valid positional argument will be `data`, and passing other arguments without an explicit keyword will result in an error or misinterpretation.\n",
      "  FutureWarning\n"
     ]
    },
    {
     "data": {
      "text/plain": [
       "<AxesSubplot:xlabel='Gender', ylabel='count'>"
      ]
     },
     "execution_count": 10,
     "metadata": {},
     "output_type": "execute_result"
    },
    {
     "data": {
      "image/png": "[encoded data removed]",
      "text/plain": [
       "<Figure size 432x288 with 1 Axes>"
      ]
     },
     "metadata": {
      "needs_background": "light"
     },
     "output_type": "display_data"
    }
   ],
   "source": [
    "sns.countplot(df['Gender'])"
   ]
  },
  {
   "cell_type": "code",
   "execution_count": 11,
   "id": "2fbd53ae",
   "metadata": {
    "execution": {
     "iopub.execute_input": "2022-12-30T22:36:48.434370Z",
     "iopub.status.busy": "2022-12-30T22:36:48.433385Z",
     "iopub.status.idle": "2022-12-30T22:36:48.728657Z",
     "shell.execute_reply": "2022-12-30T22:36:48.727522Z"
    },
    "papermill": {
     "duration": 0.308433,
     "end_time": "2022-12-30T22:36:48.732266",
     "exception": false,
     "start_time": "2022-12-30T22:36:48.423833",
     "status": "completed"
    },
    "tags": []
   },
   "outputs": [
    {
     "name": "stderr",
     "output_type": "stream",
     "text": [
      "/opt/conda/lib/python3.7/site-packages/seaborn/distributions.py:2619: FutureWarning: `distplot` is a deprecated function and will be removed in a future version. Please adapt your code to use either `displot` (a figure-level function with similar flexibility) or `histplot` (an axes-level function for histograms).\n",
      "  warnings.warn(msg, FutureWarning)\n"
     ]
    },
    {
     "data": {
      "text/plain": [
       "<AxesSubplot:xlabel='Age', ylabel='Density'>"
      ]
     },
     "execution_count": 11,
     "metadata": {},
     "output_type": "execute_result"
    },
    {
     "data": {
      "image/png": "[encoded data removed]",
      "text/plain": [
       "<Figure size 432x288 with 1 Axes>"
      ]
     },
     "metadata": {
      "needs_background": "light"
     },
     "output_type": "display_data"
    }
   ],
   "source": [
    "sns.distplot(df['Age'])"
   ]
  },
  {
   "cell_type": "code",
   "execution_count": 12,
   "id": "c7560a85",
   "metadata": {
    "execution": {
     "iopub.execute_input": "2022-12-30T22:36:48.748636Z",
     "iopub.status.busy": "2022-12-30T22:36:48.748151Z",
     "iopub.status.idle": "2022-12-30T22:36:48.769031Z",
     "shell.execute_reply": "2022-12-30T22:36:48.766858Z"
    },
    "papermill": {
     "duration": 0.03276,
     "end_time": "2022-12-30T22:36:48.772383",
     "exception": false,
     "start_time": "2022-12-30T22:36:48.739623",
     "status": "completed"
    },
    "tags": []
   },
   "outputs": [
    {
     "data": {
      "text/html": [
       "<div>\n",
       "<style scoped>\n",
       "    .dataframe tbody tr th:only-of-type {\n",
       "        vertical-align: middle;\n",
       "    }\n",
       "\n",
       "    .dataframe tbody tr th {\n",
       "        vertical-align: top;\n",
       "    }\n",
       "\n",
       "    .dataframe thead th {\n",
       "        text-align: right;\n",
       "    }\n",
       "</style>\n",
       "<table border=\"1\" class=\"dataframe\">\n",
       "  <thead>\n",
       "    <tr style=\"text-align: right;\">\n",
       "      <th></th>\n",
       "      <th>CustomerID</th>\n",
       "      <th>Gender</th>\n",
       "      <th>Age</th>\n",
       "      <th>Annual Income (k$)</th>\n",
       "      <th>Spending Score (1-100)</th>\n",
       "      <th>gender</th>\n",
       "    </tr>\n",
       "  </thead>\n",
       "  <tbody>\n",
       "    <tr>\n",
       "      <th>0</th>\n",
       "      <td>1</td>\n",
       "      <td>Male</td>\n",
       "      <td>19</td>\n",
       "      <td>15</td>\n",
       "      <td>39</td>\n",
       "      <td>1</td>\n",
       "    </tr>\n",
       "    <tr>\n",
       "      <th>1</th>\n",
       "      <td>2</td>\n",
       "      <td>Male</td>\n",
       "      <td>21</td>\n",
       "      <td>15</td>\n",
       "      <td>81</td>\n",
       "      <td>1</td>\n",
       "    </tr>\n",
       "    <tr>\n",
       "      <th>2</th>\n",
       "      <td>3</td>\n",
       "      <td>Female</td>\n",
       "      <td>20</td>\n",
       "      <td>16</td>\n",
       "      <td>6</td>\n",
       "      <td>0</td>\n",
       "    </tr>\n",
       "    <tr>\n",
       "      <th>3</th>\n",
       "      <td>4</td>\n",
       "      <td>Female</td>\n",
       "      <td>23</td>\n",
       "      <td>16</td>\n",
       "      <td>77</td>\n",
       "      <td>0</td>\n",
       "    </tr>\n",
       "    <tr>\n",
       "      <th>4</th>\n",
       "      <td>5</td>\n",
       "      <td>Female</td>\n",
       "      <td>31</td>\n",
       "      <td>17</td>\n",
       "      <td>40</td>\n",
       "      <td>0</td>\n",
       "    </tr>\n",
       "    <tr>\n",
       "      <th>...</th>\n",
       "      <td>...</td>\n",
       "      <td>...</td>\n",
       "      <td>...</td>\n",
       "      <td>...</td>\n",
       "      <td>...</td>\n",
       "      <td>...</td>\n",
       "    </tr>\n",
       "    <tr>\n",
       "      <th>195</th>\n",
       "      <td>196</td>\n",
       "      <td>Female</td>\n",
       "      <td>35</td>\n",
       "      <td>120</td>\n",
       "      <td>79</td>\n",
       "      <td>0</td>\n",
       "    </tr>\n",
       "    <tr>\n",
       "      <th>196</th>\n",
       "      <td>197</td>\n",
       "      <td>Female</td>\n",
       "      <td>45</td>\n",
       "      <td>126</td>\n",
       "      <td>28</td>\n",
       "      <td>0</td>\n",
       "    </tr>\n",
       "    <tr>\n",
       "      <th>197</th>\n",
       "      <td>198</td>\n",
       "      <td>Male</td>\n",
       "      <td>32</td>\n",
       "      <td>126</td>\n",
       "      <td>74</td>\n",
       "      <td>1</td>\n",
       "    </tr>\n",
       "    <tr>\n",
       "      <th>198</th>\n",
       "      <td>199</td>\n",
       "      <td>Male</td>\n",
       "      <td>32</td>\n",
       "      <td>137</td>\n",
       "      <td>18</td>\n",
       "      <td>1</td>\n",
       "    </tr>\n",
       "    <tr>\n",
       "      <th>199</th>\n",
       "      <td>200</td>\n",
       "      <td>Male</td>\n",
       "      <td>30</td>\n",
       "      <td>137</td>\n",
       "      <td>83</td>\n",
       "      <td>1</td>\n",
       "    </tr>\n",
       "  </tbody>\n",
       "</table>\n",
       "<p>200 rows × 6 columns</p>\n",
       "</div>"
      ],
      "text/plain": [
       "     CustomerID  Gender  Age  Annual Income (k$)  Spending Score (1-100)  \\\n",
       "0             1    Male   19                  15                      39   \n",
       "1             2    Male   21                  15                      81   \n",
       "2             3  Female   20                  16                       6   \n",
       "3             4  Female   23                  16                      77   \n",
       "4             5  Female   31                  17                      40   \n",
       "..          ...     ...  ...                 ...                     ...   \n",
       "195         196  Female   35                 120                      79   \n",
       "196         197  Female   45                 126                      28   \n",
       "197         198    Male   32                 126                      74   \n",
       "198         199    Male   32                 137                      18   \n",
       "199         200    Male   30                 137                      83   \n",
       "\n",
       "     gender  \n",
       "0         1  \n",
       "1         1  \n",
       "2         0  \n",
       "3         0  \n",
       "4         0  \n",
       "..      ...  \n",
       "195       0  \n",
       "196       0  \n",
       "197       1  \n",
       "198       1  \n",
       "199       1  \n",
       "\n",
       "[200 rows x 6 columns]"
      ]
     },
     "execution_count": 12,
     "metadata": {},
     "output_type": "execute_result"
    }
   ],
   "source": [
    "from sklearn.preprocessing import LabelEncoder\n",
    "le = LabelEncoder()\n",
    "df['gender'] = le.fit_transform(df['Gender'])\n",
    "df"
   ]
  },
  {
   "cell_type": "code",
   "execution_count": 13,
   "id": "e9647814",
   "metadata": {
    "execution": {
     "iopub.execute_input": "2022-12-30T22:36:48.796476Z",
     "iopub.status.busy": "2022-12-30T22:36:48.796035Z",
     "iopub.status.idle": "2022-12-30T22:36:48.803284Z",
     "shell.execute_reply": "2022-12-30T22:36:48.801750Z"
    },
    "papermill": {
     "duration": 0.023867,
     "end_time": "2022-12-30T22:36:48.807155",
     "exception": false,
     "start_time": "2022-12-30T22:36:48.783288",
     "status": "completed"
    },
    "tags": []
   },
   "outputs": [],
   "source": [
    "X = df[['Annual Income (k$)','Spending Score (1-100)']]"
   ]
  },
  {
   "cell_type": "code",
   "execution_count": 14,
   "id": "10c90090",
   "metadata": {
    "execution": {
     "iopub.execute_input": "2022-12-30T22:36:48.826308Z",
     "iopub.status.busy": "2022-12-30T22:36:48.825499Z",
     "iopub.status.idle": "2022-12-30T22:36:50.721877Z",
     "shell.execute_reply": "2022-12-30T22:36:50.720429Z"
    },
    "papermill": {
     "duration": 1.910055,
     "end_time": "2022-12-30T22:36:50.725470",
     "exception": false,
     "start_time": "2022-12-30T22:36:48.815415",
     "status": "completed"
    },
    "tags": []
   },
   "outputs": [
    {
     "data": {
      "text/plain": [
       "[269981.28,\n",
       " 181363.59595959596,\n",
       " 106348.37306211119,\n",
       " 73679.78903948834,\n",
       " 44448.45544793371,\n",
       " 37233.81451071001,\n",
       " 30259.65720728547,\n",
       " 25011.839349156595,\n",
       " 21850.165282585633,\n",
       " 19672.072849014323,\n",
       " 17887.084456628643,\n",
       " 15917.609689427862,\n",
       " 14312.66860916861,\n",
       " 12802.791660300481,\n",
       " 11702.173889998889,\n",
       " 11220.225086188322,\n",
       " 9915.625216450217,\n",
       " 9221.456954398258,\n",
       " 8911.441346032136,\n",
       " 8121.286613386613,\n",
       " 7864.663086260145,\n",
       " 7264.215538847118,\n",
       " 6967.505766348562,\n",
       " 6627.320845820846,\n",
       " 6211.098549163256,\n",
       " 6016.722442002442,\n",
       " 5416.409150979739,\n",
       " 5155.859994907054,\n",
       " 4855.919787157288]"
      ]
     },
     "execution_count": 14,
     "metadata": {},
     "output_type": "execute_result"
    }
   ],
   "source": [
    "sse=[]\n",
    "for i in range(1,30):\n",
    "    kmeans = KMeans(n_clusters=i,init=\"k-means++\",random_state=42)\n",
    "    kmeans.fit(X)\n",
    "    sse.append(kmeans.inertia_)\n",
    "sse"
   ]
  },
  {
   "cell_type": "code",
   "execution_count": 15,
   "id": "1648dad3",
   "metadata": {
    "execution": {
     "iopub.execute_input": "2022-12-30T22:36:50.746698Z",
     "iopub.status.busy": "2022-12-30T22:36:50.746223Z",
     "iopub.status.idle": "2022-12-30T22:36:50.979612Z",
     "shell.execute_reply": "2022-12-30T22:36:50.977995Z"
    },
    "papermill": {
     "duration": 0.247521,
     "end_time": "2022-12-30T22:36:50.983778",
     "exception": false,
     "start_time": "2022-12-30T22:36:50.736257",
     "status": "completed"
    },
    "tags": []
   },
   "outputs": [
    {
     "data": {
      "image/png": "[encoded data removed]",
      "text/plain": [
       "<Figure size 432x288 with 1 Axes>"
      ]
     },
     "metadata": {
      "needs_background": "light"
     },
     "output_type": "display_data"
    }
   ],
   "source": [
    "plt.plot(range(1,30),sse) \n",
    "plt.title('The Elobw Method Graph')  \n",
    "plt.xlabel('Number of clusters(k)')  \n",
    "plt.ylabel('wcss_list')  \n",
    "plt.show() "
   ]
  },
  {
   "cell_type": "code",
   "execution_count": 16,
   "id": "f5720445",
   "metadata": {
    "execution": {
     "iopub.execute_input": "2022-12-30T22:36:51.001949Z",
     "iopub.status.busy": "2022-12-30T22:36:51.001541Z",
     "iopub.status.idle": "2022-12-30T22:36:51.053158Z",
     "shell.execute_reply": "2022-12-30T22:36:51.051935Z"
    },
    "papermill": {
     "duration": 0.064079,
     "end_time": "2022-12-30T22:36:51.056123",
     "exception": false,
     "start_time": "2022-12-30T22:36:50.992044",
     "status": "completed"
    },
    "tags": []
   },
   "outputs": [
    {
     "data": {
      "text/html": [
       "<div>\n",
       "<style scoped>\n",
       "    .dataframe tbody tr th:only-of-type {\n",
       "        vertical-align: middle;\n",
       "    }\n",
       "\n",
       "    .dataframe tbody tr th {\n",
       "        vertical-align: top;\n",
       "    }\n",
       "\n",
       "    .dataframe thead th {\n",
       "        text-align: right;\n",
       "    }\n",
       "</style>\n",
       "<table border=\"1\" class=\"dataframe\">\n",
       "  <thead>\n",
       "    <tr style=\"text-align: right;\">\n",
       "      <th></th>\n",
       "      <th>CustomerID</th>\n",
       "      <th>Gender</th>\n",
       "      <th>Age</th>\n",
       "      <th>Annual Income (k$)</th>\n",
       "      <th>Spending Score (1-100)</th>\n",
       "      <th>gender</th>\n",
       "      <th>cluster</th>\n",
       "    </tr>\n",
       "  </thead>\n",
       "  <tbody>\n",
       "    <tr>\n",
       "      <th>0</th>\n",
       "      <td>1</td>\n",
       "      <td>Male</td>\n",
       "      <td>19</td>\n",
       "      <td>15</td>\n",
       "      <td>39</td>\n",
       "      <td>1</td>\n",
       "      <td>2</td>\n",
       "    </tr>\n",
       "    <tr>\n",
       "      <th>1</th>\n",
       "      <td>2</td>\n",
       "      <td>Male</td>\n",
       "      <td>21</td>\n",
       "      <td>15</td>\n",
       "      <td>81</td>\n",
       "      <td>1</td>\n",
       "      <td>3</td>\n",
       "    </tr>\n",
       "    <tr>\n",
       "      <th>2</th>\n",
       "      <td>3</td>\n",
       "      <td>Female</td>\n",
       "      <td>20</td>\n",
       "      <td>16</td>\n",
       "      <td>6</td>\n",
       "      <td>0</td>\n",
       "      <td>2</td>\n",
       "    </tr>\n",
       "    <tr>\n",
       "      <th>3</th>\n",
       "      <td>4</td>\n",
       "      <td>Female</td>\n",
       "      <td>23</td>\n",
       "      <td>16</td>\n",
       "      <td>77</td>\n",
       "      <td>0</td>\n",
       "      <td>3</td>\n",
       "    </tr>\n",
       "    <tr>\n",
       "      <th>4</th>\n",
       "      <td>5</td>\n",
       "      <td>Female</td>\n",
       "      <td>31</td>\n",
       "      <td>17</td>\n",
       "      <td>40</td>\n",
       "      <td>0</td>\n",
       "      <td>2</td>\n",
       "    </tr>\n",
       "    <tr>\n",
       "      <th>...</th>\n",
       "      <td>...</td>\n",
       "      <td>...</td>\n",
       "      <td>...</td>\n",
       "      <td>...</td>\n",
       "      <td>...</td>\n",
       "      <td>...</td>\n",
       "      <td>...</td>\n",
       "    </tr>\n",
       "    <tr>\n",
       "      <th>195</th>\n",
       "      <td>196</td>\n",
       "      <td>Female</td>\n",
       "      <td>35</td>\n",
       "      <td>120</td>\n",
       "      <td>79</td>\n",
       "      <td>0</td>\n",
       "      <td>4</td>\n",
       "    </tr>\n",
       "    <tr>\n",
       "      <th>196</th>\n",
       "      <td>197</td>\n",
       "      <td>Female</td>\n",
       "      <td>45</td>\n",
       "      <td>126</td>\n",
       "      <td>28</td>\n",
       "      <td>0</td>\n",
       "      <td>1</td>\n",
       "    </tr>\n",
       "    <tr>\n",
       "      <th>197</th>\n",
       "      <td>198</td>\n",
       "      <td>Male</td>\n",
       "      <td>32</td>\n",
       "      <td>126</td>\n",
       "      <td>74</td>\n",
       "      <td>1</td>\n",
       "      <td>4</td>\n",
       "    </tr>\n",
       "    <tr>\n",
       "      <th>198</th>\n",
       "      <td>199</td>\n",
       "      <td>Male</td>\n",
       "      <td>32</td>\n",
       "      <td>137</td>\n",
       "      <td>18</td>\n",
       "      <td>1</td>\n",
       "      <td>1</td>\n",
       "    </tr>\n",
       "    <tr>\n",
       "      <th>199</th>\n",
       "      <td>200</td>\n",
       "      <td>Male</td>\n",
       "      <td>30</td>\n",
       "      <td>137</td>\n",
       "      <td>83</td>\n",
       "      <td>1</td>\n",
       "      <td>4</td>\n",
       "    </tr>\n",
       "  </tbody>\n",
       "</table>\n",
       "<p>200 rows × 7 columns</p>\n",
       "</div>"
      ],
      "text/plain": [
       "     CustomerID  Gender  Age  Annual Income (k$)  Spending Score (1-100)  \\\n",
       "0             1    Male   19                  15                      39   \n",
       "1             2    Male   21                  15                      81   \n",
       "2             3  Female   20                  16                       6   \n",
       "3             4  Female   23                  16                      77   \n",
       "4             5  Female   31                  17                      40   \n",
       "..          ...     ...  ...                 ...                     ...   \n",
       "195         196  Female   35                 120                      79   \n",
       "196         197  Female   45                 126                      28   \n",
       "197         198    Male   32                 126                      74   \n",
       "198         199    Male   32                 137                      18   \n",
       "199         200    Male   30                 137                      83   \n",
       "\n",
       "     gender  cluster  \n",
       "0         1        2  \n",
       "1         1        3  \n",
       "2         0        2  \n",
       "3         0        3  \n",
       "4         0        2  \n",
       "..      ...      ...  \n",
       "195       0        4  \n",
       "196       0        1  \n",
       "197       1        4  \n",
       "198       1        1  \n",
       "199       1        4  \n",
       "\n",
       "[200 rows x 7 columns]"
      ]
     },
     "execution_count": 16,
     "metadata": {},
     "output_type": "execute_result"
    }
   ],
   "source": [
    "kmeans = KMeans(n_clusters=5,init=\"k-means++\",random_state=42)\n",
    "df['cluster']=kmeans.fit_predict(X)\n",
    "df"
   ]
  },
  {
   "cell_type": "code",
   "execution_count": 17,
   "id": "bab4eeb2",
   "metadata": {
    "execution": {
     "iopub.execute_input": "2022-12-30T22:36:51.075411Z",
     "iopub.status.busy": "2022-12-30T22:36:51.074440Z",
     "iopub.status.idle": "2022-12-30T22:36:51.430393Z",
     "shell.execute_reply": "2022-12-30T22:36:51.428598Z"
    },
    "papermill": {
     "duration": 0.3692,
     "end_time": "2022-12-30T22:36:51.433945",
     "exception": false,
     "start_time": "2022-12-30T22:36:51.064745",
     "status": "completed"
    },
    "tags": []
   },
   "outputs": [
    {
     "data": {
      "image/png": "[encoded data removed]",
      "text/plain": [
       "<Figure size 432x288 with 1 Axes>"
      ]
     },
     "metadata": {
      "needs_background": "light"
     },
     "output_type": "display_data"
    }
   ],
   "source": [
    "plt.scatter(df[df['cluster']==0]['Annual Income (k$)'],df[df['cluster']==0]['Spending Score (1-100)'],s=100,color=\"Red\",label=\"Cluster1\")\n",
    "plt.scatter(df[df['cluster']==1]['Annual Income (k$)'],df[df['cluster']==1]['Spending Score (1-100)'],s=100,color=\"Blue\",label=\"Cluster2\")\n",
    "plt.scatter(df[df['cluster']==2]['Annual Income (k$)'],df[df['cluster']==2]['Spending Score (1-100)'],s=100,color=\"Green\",label=\"Cluster3\")\n",
    "plt.scatter(df[df['cluster']==3]['Annual Income (k$)'],df[df['cluster']==3]['Spending Score (1-100)'],s=100,color=\"Yellow\",label=\"Cluster4\")\n",
    "plt.scatter(df[df['cluster']==4]['Annual Income (k$)'],df[df['cluster']==4]['Spending Score (1-100)'],s=100,color=\"Purple\",label=\"Cluster5\")\n",
    "plt.legend()\n",
    "plt.show()"
   ]
  },
  {
   "cell_type": "markdown",
   "id": "8141fea5",
   "metadata": {
    "papermill": {
     "duration": 0.008378,
     "end_time": "2022-12-30T22:36:51.452224",
     "exception": false,
     "start_time": "2022-12-30T22:36:51.443846",
     "status": "completed"
    },
    "tags": []
   },
   "source": [
    "# **Cluster 1 = Annual Income 40-60 Spend 40-60\n",
    "# Cluster 2 = Annual Income 70-140 Spend 20-40\n",
    "# Cluster 3 = Annual Income 20-40 Spend 20-40\n",
    "# Cluster 4 = Annual Income 20-10 Spend 60-100\n",
    "# Cluster 5 = Annual Income 70-140 spend 70-140**"
   ]
  },
  {
   "cell_type": "code",
   "execution_count": null,
   "id": "c17d962d",
   "metadata": {
    "papermill": {
     "duration": 0.00856,
     "end_time": "2022-12-30T22:36:51.470109",
     "exception": false,
     "start_time": "2022-12-30T22:36:51.461549",
     "status": "completed"
    },
    "tags": []
   },
   "outputs": [],
   "source": []
  }
 ],
 "metadata": {
  "kernelspec": {
   "display_name": "Python 3",
   "language": "python",
   "name": "python3"
  },
  "language_info": {
   "codemirror_mode": {
    "name": "ipython",
    "version": 3
   },
   "file_extension": ".py",
   "mimetype": "text/x-python",
   "name": "python",
   "nbconvert_exporter": "python",
   "pygments_lexer": "ipython3",
   "version": "3.7.12"
  },
  "papermill": {
   "default_parameters": {},
   "duration": 15.800498,
   "end_time": "2022-12-30T22:36:52.402538",
   "environment_variables": {},
   "exception": null,
   "input_path": "__notebook__.ipynb",
   "output_path": "__notebook__.ipynb",
   "parameters": {},
   "start_time": "2022-12-30T22:36:36.602040",
   "version": "2.3.4"
  }
 },
 "nbformat": 4,
 "nbformat_minor": 5
}
